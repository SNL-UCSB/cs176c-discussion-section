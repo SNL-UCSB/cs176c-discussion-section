{
 "cells": [
  {
   "cell_type": "markdown",
   "id": "b48c2da3",
   "metadata": {},
   "source": [
    "# Discussion Section Week 3 - 4/25/24"
   ]
  },
  {
   "cell_type": "markdown",
   "id": "083f2bca",
   "metadata": {},
   "source": [
    "## Before you Start Download these Files"
   ]
  },
  {
   "cell_type": "markdown",
   "id": "17c8fdc4",
   "metadata": {},
   "source": [
    "Make sure you have these files downloaded before starting.  \n",
    "[Wireshark_802_11.pcap](https://drive.google.com/file/d/1iiRV27on7lzv73OOTjw2lTewc3SNaZtI/view)  "
   ]
  },
  {
   "cell_type": "markdown",
   "id": "48402385",
   "metadata": {},
   "source": [
    "## 802.11 Statistics with Wireshark"
   ]
  },
  {
   "cell_type": "markdown",
   "id": "bac45701",
   "metadata": {},
   "source": [
    "Open up Wireshark's endpoints statistics (**Statistics** > **Endpoints**\"). Check the box in the bottom left to enable 802.11 statistics. Click on the **IEEE 802.11** tab.\n",
    "\n",
    "- Record the top 4 hosts sending and receiving the most 802.11 packets in this capture. Make sure to record the # packets and bytes for each of these hosts.\n",
    "\n",
    "You can check the **Name Resolution** box in the top left of this window under **Endpoint Settings**.\n",
    "\n",
    "- Based on the resolved manufacturers for these 4 hosts, which of these addresses is likely the client device?\n",
    "\n",
    "- How many packets do you observe where the receiver address is not equal to the destination address? How many of these packets have neither the receiver of the destination address as the broadcast address?\n",
    "\n",
    "- What does it mean for these packets to have a different receiver and destination address? (Hint: Why do some of these packets dissect to L4 / L5 protocols such as DNS/TCP/UDP?)\n",
    "\n",
    "- What is the MAC address of the access point that the client is connected to? What is the MAC address of the gateway that the client is connected to?"
   ]
  },
  {
   "cell_type": "code",
   "execution_count": null,
   "id": "2f6f360e",
   "metadata": {},
   "outputs": [],
   "source": [
    "# %load ./review1-answers.txt\n",
    "- Record the top 4 hosts sending and receiving the most 802.11 packets in this capture. Make sure to record the # packets and bytes for each of these hosts.\n",
    "    - Cisco-Li_f7:1d:51 / 1,361 packets / 176633 bytes\n",
    "    - IntelCor_d1:b6:4f / 887 packets / 407797 bytes\n",
    "    - Broadcast / 814 packets / 142366 bytes\n",
    "    - Cisco-Li_f4:eb:a8 / 753 packets / 371321 bytes\n",
    "\n",
    "- Based on the resolved manufacturers for these 4 hosts, which of these addresses is likely the client device?\n",
    "    -  IntelCor_d1:b6:4f (00:12:f0:d1:b6:4f). Intel is likely manufacturer for end device, other addresses are for Cisco (likely router/AP) and broadcast.\n",
    "\n",
    "- How many packets do you observe where the receiver address is not equal to the destination address? How many of these packets have neither the receiver of the destination address as the broadcast address?\n",
    "    - 186 packets, 172 packets that don't use broadcast address\n",
    "\n",
    "- What does it mean for these packets to have a different receiver and destination address? (Hint: Why do some of these packets dissect to L4 / L5 protocols such as DNS/TCP/UDP?)\n",
    "    - These are packets that are actually meant to be routed and exit the network. For example the TCP packets need to exit the local network to arrive at gaia.cs.umass.edu\n",
    "    \n",
    "- What is the MAC address of the access point that the client is connected to? What is the MAC address of the gateway that the client is connected to?\n",
    "    - Access Point: Cisco-Li_f7:1d:51 (00:16:b6:f7:1d:51)\n",
    "    - Gateway: Cisco-Li_f4:eb:a8 (00:16:b6:f4:eb:a8)"
   ]
  },
  {
   "cell_type": "markdown",
   "id": "c1860188",
   "metadata": {},
   "source": [
    "## Wireless Review Questions"
   ]
  },
  {
   "cell_type": "markdown",
   "id": "ac0e9b16",
   "metadata": {},
   "source": [
    "**1.** True of false: Before an 802.11 station transmits a data frame, it must first send an RTS frame and receive a corresponding CTS frame.\n",
    "\n",
    "**2.** If a node has a wireless connection to the Internet, does that node have to be mobile? Explain. Suppose that a user with a laptop walks around her house with her laptop, and always accesses the Internet through the same access point. Is this user mobile from a network standpoint?\n",
    "\n",
    "Suppose there are two ISPs providing WiFi access in a particular café, with each ISP operating its own AP and having its own IP address block.  \n",
    "\n",
    "**3a.** Further suppose that by accident, each ISP has configured its AP to operate over channel 11. Will the 802.11 protocol completely break down in this situation? Discuss what happens when two stations, each associated with a different ISP, attempt to transmit at the same time.  \n",
    "    \n",
    "**3b.** Now suppose that one AP operates over channel 1 and the other over channel 11. How do your answers change?  "
   ]
  },
  {
   "cell_type": "code",
   "execution_count": null,
   "id": "8cb143dc",
   "metadata": {},
   "outputs": [],
   "source": [
    "%load ./review2-answers.txt"
   ]
  },
  {
   "cell_type": "markdown",
   "id": "f42df56a",
   "metadata": {},
   "source": [
    "## Automate Wireless Analysis"
   ]
  },
  {
   "cell_type": "markdown",
   "id": "fcba0c2b",
   "metadata": {},
   "source": [
    "Now that you've had experience using tshark and pandas, try to answer the following questions programatically by processing the necessary fields from tshark into a CSV and load the CSV into a pandas dataframe. You will need to first determine which fields you want to extract from each packet in the pcap to answer these questions."
   ]
  },
  {
   "cell_type": "markdown",
   "id": "ad0de5db",
   "metadata": {},
   "source": [
    "- First enumerate the fields (tshark filters) we will need to answer the below questions  \n",
    "\n",
    "- Create a tshark command to extract the necessary fields from   \n",
    "\n",
    "Check the contents of your CSV file to see if it was correctly generated.  \n",
    "\n",
    "Add a tab-separated header row representing the plaintext name for each row. This is useful when you open the CSV in a pandas dataframe it will already have the column names correctly labelled. "
   ]
  },
  {
   "cell_type": "markdown",
   "id": "034c2f14",
   "metadata": {},
   "source": [
    "Now open the CSV dataframe with pandas and answer the following questions.\n",
    "\n",
    "- How many unique SSIDs can you observe on this channel?\n",
    "\n",
    "- For how many probe requests do you observe a probe response to the host sending a request with a matching SSID in the request and response? \n",
    "\n",
    "- What could explain why we do not observe responses for some probe requests?\n",
    "\n",
    "- Compute the top 4 hosts sending and receiving the most 802.11 packets in this capture. Use your answer in the first section above to tune your answer and determine which field(s) and length(s) are used in Wireshark's statistics window."
   ]
  },
  {
   "cell_type": "markdown",
   "id": "120a6b1e",
   "metadata": {},
   "source": [
    "Some analysis will always be easier in wireshark, while some queries will be easier to answer programatically :-)"
   ]
  },
  {
   "cell_type": "code",
   "execution_count": null,
   "id": "bd2900b4",
   "metadata": {},
   "outputs": [],
   "source": []
  }
 ],
 "metadata": {
  "kernelspec": {
   "display_name": "Python 3 (ipykernel)",
   "language": "python",
   "name": "python3"
  },
  "language_info": {
   "codemirror_mode": {
    "name": "ipython",
    "version": 3
   },
   "file_extension": ".py",
   "mimetype": "text/x-python",
   "name": "python",
   "nbconvert_exporter": "python",
   "pygments_lexer": "ipython3",
   "version": "3.10.12"
  }
 },
 "nbformat": 4,
 "nbformat_minor": 5
}
