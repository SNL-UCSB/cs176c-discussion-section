{
 "cells": [
  {
   "cell_type": "markdown",
   "metadata": {},
   "source": [
    "# Passive Network Measurement"
   ]
  },
  {
   "cell_type": "markdown",
   "metadata": {},
   "source": [
    "Network operators look at different types of network traffic data to understand properties of their networks. Some network data can be collected directly from network devices (e.g., routers, switches) while they are forwarding live traffic.  Collecting this data does not affect network behavior and is therefore called \"passive\" (as opposed to \"active\" measurements).\n",
    "\n",
    "In this section, we will analyze traffic volumes - a type of passive network measurement data."
   ]
  },
  {
   "cell_type": "markdown",
   "metadata": {},
   "source": [
    "## Background\n",
    "\n",
    "### Traffic Measurement with IPFIX\n",
    "\n",
    "Routers in most networks collect traffic measurements using the [IPFIX protocol](https://en.wikipedia.org/wiki/IP_Flow_Information_Export). [NetFlow](https://en.wikipedia.org/wiki/NetFlow), a proprietary form of IPFIX defined by Cisco, is well-known in the networks community because Cisco supplies routers for many large networks.\n",
    "\n",
    "In this section, we'll analyze a trace of NetFlow records captured from a router that connects Princeton University's campus network to the Internet. The section will perform similar kinds of analysis that a network operator would perform -- asking questions about the most popular endpoints for the campus traffic, the most popular web applications, and so forth (As you can imagine, when we start to think about security, the ability to analyze these baselines will come in handy!).\n",
    "\n",
    "The flow records are in the file `netflow.csv`.  To simplify the analysis, we have ensured that the IP addresses of the campus network start with `128.112` and have their 16 lower bits anonymized to protect the privacy of users. To further simplify your task, we have parsed these records into CSV (comma-separated variable) format, with the names of the fields listed in the first row of the file. (In a real network, routers export IPFIX records as binary files)\n",
    "\n",
    "### Functional data analysis with map() and reduce()\n",
    "\n",
    "Several of the data analysis steps in this section use a \"MapReduce\" programming model. MapReduce originated in functional programming languages and involves using two functions (called `map()` and `reduce()`...surprise!) to apply functions to iterable data (like linked-lists, arrays, etc.). \n",
    "\n",
    "##### map()\n",
    "\n",
    "A general `map()` function has two arguments: another function (which itself takes one argument) and an iterable object. `map()` then applies (maps) the argument function to every item in the iterable object. See [the documentation](https://docs.python.org/3/library/functions.html#map) of Python's built-in `map()` function for more details. The following toy example uses `map()` to add 3 to every element of a list"
   ]
  },
  {
   "cell_type": "code",
   "execution_count": 1,
   "metadata": {
    "scrolled": true
   },
   "outputs": [
    {
     "name": "stdout",
     "output_type": "stream",
     "text": [
      "[4, 5, 6]\n"
     ]
    }
   ],
   "source": [
    "some_numbers = [1,2,3]\n",
    "three_more = map(lambda x: x+3, some_numbers)\n",
    "print(list(three_more))"
   ]
  },
  {
   "cell_type": "markdown",
   "metadata": {},
   "source": [
    "`map()` is often used with the anonymous function (the `lambda` in the above example), but can be used just as easily with normal functions:"
   ]
  },
  {
   "cell_type": "code",
   "execution_count": 2,
   "metadata": {},
   "outputs": [
    {
     "name": "stdout",
     "output_type": "stream",
     "text": [
      "[4, 5, 6]\n"
     ]
    }
   ],
   "source": [
    "def add3(i):\n",
    "    return i+3\n",
    " \n",
    "some_numbers = [1,2,3]\n",
    "three_more = map(add3, some_numbers)\n",
    "print(list(three_more))"
   ]
  },
  {
   "cell_type": "markdown",
   "metadata": {},
   "source": [
    "##### reduce()\n",
    "\n",
    "A general `reduce()` function takes another function (which itself takes *two* values), an iterable object, and an optional initializer value. It apples the function of two arguments cumulatively to the items of the iterable object, from left to right, so as to reduce the sequence to a single value. This allows `reduce()` to compute summaries over all data in the iterable object. See [the documentation](https://docs.python.org/3/library/functools.html#functools.reduce) of Python `functools`'s `reduce()` function for more details. The following example uses `reduce()` to count the number of 4s in a list of integers:"
   ]
  },
  {
   "cell_type": "code",
   "execution_count": 2,
   "metadata": {},
   "outputs": [
    {
     "name": "stdout",
     "output_type": "stream",
     "text": [
      "2\n"
     ]
    }
   ],
   "source": [
    "from functools import reduce\n",
    "\n",
    "def count_4s(count, i):\n",
    "    # The order of the arguments matters. \n",
    "    #     The first argument is the accumulated value\n",
    "    #     The secod argument is next value from the iterable\n",
    "    if i == 4:\n",
    "        return count + 1\n",
    "    else:\n",
    "        return count\n",
    "    \n",
    "# count_4s(0, 1) returns 0\n",
    "# count_4s(0, 4) returns 1\n",
    "# count_4s(1, 0) returns 1\n",
    "\n",
    "some_numbers = [1,4,0,1,4]\n",
    "num_fours = reduce(count_4s, some_numbers, 0) # 0 is the initializer value \n",
    "print(num_fours)"
   ]
  },
  {
   "cell_type": "markdown",
   "metadata": {},
   "source": [
    "[MapReduce](https://en.wikipedia.org/wiki/MapReduce) is popular because it allows analysis tasks on large data sets to be easily parallelized .  Although there are many open-source and proprietary MapReduce-style data processing libraries (typically with different ways of expressing iterable datasets and distributing tasks over many computers), they all involve `map()` and `reduce()` functions like you will use in this assignment."
   ]
  },
  {
   "cell_type": "markdown",
   "metadata": {},
   "source": [
    "### Parse IPFIX Data\n",
    "The `netflow.csv` file contains some pre-processed netflow data. The data is \"unsampled,\" i.e. it compiles flow statistics for every packet that traverses any interface on the border router.  We used the `nfdump` tool to process the raw NetFlow data that the router collected. Each row of the `netflow.csv` file, except for the header on top, logs the following information for a flow:\n",
    "\n",
    "```\n",
    "Date first seen, Time first seen (m:s), Date last seen, Time last seen (m:s), Duration (s), Protocol, \n",
    "Src IP addr, Src port, Dst IP addr, Dst port, Packets, Bytes, Flags, Input interface, Output interface\t\t\n",
    "\n",
    "```\n",
    "\n",
    "To analyze this data, we first need to read it into a python data structure.  The following code uses the built-in `csv` library to read `netflow.csv` into a list of dictionaries.  The `csv` library documentation is [here](https://docs.python.org/3/library/csv.html)."
   ]
  },
  {
   "cell_type": "code",
   "execution_count": 3,
   "metadata": {
    "scrolled": true
   },
   "outputs": [
    {
     "name": "stdout",
     "output_type": "stream",
     "text": [
      "Number of flow records: 105360\n",
      "Sample flow record: {'Date first seen': '10/29/15', 'Time first seen (m:s)': '04:48.9', 'Date last seen': '10/29/15', 'Time last seen (m:s)': '04:48.9', 'Duration (s)': '0', 'Protocol': 'ICMP', 'Src IP addr': '172.16.241.1', 'Src port': '0', 'Dst IP addr': '128.112.213.189', 'Dst port': '11', 'Packets': '1', 'Bytes': '94', 'Flags': '.A....', 'Input interface': '120', 'Output interface': '0'}\n"
     ]
    }
   ],
   "source": [
    "import csv\n",
    "\n",
    "with open('netflow.csv', 'r') as netflow_file:\n",
    "    netflow_reader = csv.DictReader(netflow_file)\n",
    "    netflow_data = list(netflow_reader)\n",
    "    \n",
    "print(\"Number of flow records: {}\".format(len(netflow_data)))\n",
    "print(\"Sample flow record: {}\".format(netflow_data[0]))"
   ]
  },
  {
   "cell_type": "markdown",
   "metadata": {},
   "source": [
    "### Analyze IPFIX Data\n",
    "\n",
    "The following sections each focus on answering a specific question using the netflow data you have prepared. These questions are both of interest to real network operators and might reveal some surprising facts about how the campus community uses the Internet.  \n",
    "\n",
    "#### What are the most popular IP addresses accessed by the users?\n",
    "\n",
    "In order to answer this question, we have to decide how to measure IP address popularity. Total traffic volume across all flows seems like a reasonable option, but so does total number of flows to an IP address regardless of volume.  Network operaters actually use both metrics (among others), which we will do here as well.  \n",
    "\n",
    "*Step 1: Determine popular IP addresses by number of flows*\n",
    "\n",
    "The following code to produce a python dictionary `ips_by_flows` with counts of the total number of flows to each external (not 128.112.\\*.\\*) IP address in `netflow_data`.  The keys of the dict are the IP addresses and the values are the integer flow counts.\n",
    "\n",
    "The `count_by_flows()` function, which takes an existing dict of the form described above and updates it appropriately from `current_flow`.  If you are confused about datatypes, use print statements to inspect variables. \n",
    "\n",
    "The helper function `test_internal` tests if an IP address starts with `128.112`.\n",
    "\n",
    "Then, the `reduce()` function builds a dictionary result.  The initializer argument to `reduce()` is `defaultdict(int)`. The [defaultdict()](https://docs.python.org/3/library/collections.html#collections.defaultdict) function creates a dictionary with default values that are the output of the argument function (in this case, just 0). This allows you to increment the value of a particular key without first checking to see if the key is already in the dictionary (if you used `{}` to create the dict instead of `defaultdict()`, this would raise a KeyError).\n",
    "\n",
    "The provided code will print and plot the most popular IPs."
   ]
  },
  {
   "cell_type": "code",
   "execution_count": 5,
   "metadata": {},
   "outputs": [
    {
     "name": "stdout",
     "output_type": "stream",
     "text": [
      "Most popular IP addresses by number of flows: [('116.211.0.90', 17015), ('169.54.233.126', 9424), ('163.53.247.3', 2981), ('169.45.161.189', 2494), ('222.186.190.71', 2413)]\n",
      "\n"
     ]
    },
    {
     "data": {
      "image/png": "[encoded data removed]",
      "text/plain": [
       "<Figure size 576x216 with 1 Axes>"
      ]
     },
     "metadata": {
      "needs_background": "light"
     },
     "output_type": "display_data"
    }
   ],
   "source": [
    "%matplotlib inline\n",
    "from collections import defaultdict\n",
    "from plotting import plot_flows\n",
    "from testing import check_ips_by_flows\n",
    "\n",
    "def test_internal(ip_str):\n",
    "    return ip_str.startswith('128.112.')\n",
    "\n",
    "def count_by_flows(counts, current_flow):\n",
    "    dst_ip = current_flow['Dst IP addr']\n",
    "    src_ip = current_flow['Src IP addr']\n",
    "    if not test_internal(src_ip):\n",
    "        counts[src_ip] += 1\n",
    "    if not test_internal(dst_ip):\n",
    "        counts[dst_ip] += 1\n",
    "    return counts\n",
    "\n",
    "ips_by_flows = reduce(count_by_flows, netflow_data, defaultdict(int))\n",
    "\n",
    "sorted_ips_by_flows = sorted(ips_by_flows.items(), reverse=True, key=lambda x: x[1])\n",
    "print(\"Most popular IP addresses by number of flows: {}\\n\".format(sorted_ips_by_flows[0:5]))\n",
    "\n",
    "plot_flows(sorted_ips_by_flows)"
   ]
  },
  {
   "cell_type": "markdown",
   "metadata": {},
   "source": [
    "We can write a similar code to determine popular IP addresses by total volume. Instead of incrementing the dictionary value by `1`, we can update the value by `current_flow['Bytes']`."
   ]
  },
  {
   "cell_type": "markdown",
   "metadata": {},
   "source": [
    "Or, similarly, we can write code to determine most popular applications among network users. We would create a dictionary with key containing protocol values (keep only the well-known ports) and the values containing the number of flows or the number of bytes transferred."
   ]
  }
 ],
 "metadata": {
  "kernelspec": {
   "display_name": "Python 3 (ipykernel)",
   "language": "python",
   "name": "python3"
  },
  "language_info": {
   "codemirror_mode": {
    "name": "ipython",
    "version": 3
   },
   "file_extension": ".py",
   "mimetype": "text/x-python",
   "name": "python",
   "nbconvert_exporter": "python",
   "pygments_lexer": "ipython3",
   "version": "3.9.12"
  }
 },
 "nbformat": 4,
 "nbformat_minor": 1
}
