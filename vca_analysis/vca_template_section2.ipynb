{
 "cells": [
  {
   "cell_type": "markdown",
   "id": "b91a9247",
   "metadata": {},
   "source": [
    "# Video Conferencing Application (Google Meet)"
   ]
  },
  {
   "cell_type": "markdown",
   "id": "05697032",
   "metadata": {},
   "source": [
    "## PySpark setup"
   ]
  },
  {
   "cell_type": "code",
   "execution_count": 1,
   "id": "0789002f",
   "metadata": {},
   "outputs": [],
   "source": [
    "import matplotlib as mpl\n",
    "from matplotlib import pyplot as plt\n",
    "import numpy as np"
   ]
  },
  {
   "cell_type": "code",
   "execution_count": 2,
   "id": "6ba4f0af",
   "metadata": {},
   "outputs": [],
   "source": [
    "import pyspark.sql.functions as F\n",
    "from pyspark.sql import SparkSession\n",
    "from pyspark.sql.window import Window\n",
    "from pyspark.sql.types import StringType, IntegerType, DoubleType, LongType, ByteType, BooleanType"
   ]
  },
  {
   "cell_type": "code",
   "execution_count": 3,
   "id": "30843cfd",
   "metadata": {},
   "outputs": [
    {
     "name": "stderr",
     "output_type": "stream",
     "text": [
      "22/05/27 11:35:02 WARN NativeCodeLoader: Unable to load native-hadoop library for your platform... using builtin-java classes where applicable\n",
      "Using Spark's default log4j profile: org/apache/spark/log4j-defaults.properties\n",
      "Setting default log level to \"WARN\".\n",
      "To adjust logging level use sc.setLogLevel(newLevel). For SparkR, use setLogLevel(newLevel).\n"
     ]
    }
   ],
   "source": [
    "spark = SparkSession \\\n",
    "    .builder \\\n",
    "    .config(\"spark.driver.memory\", '4G') \\\n",
    "    .config(\"spark.ui.killEnabled\", False) \\\n",
    "    .getOrCreate()\n",
    "spark.sparkContext.setLogLevel('OFF')"
   ]
  },
  {
   "cell_type": "markdown",
   "id": "168e1a92",
   "metadata": {},
   "source": [
    "## Pyspark Tutorial"
   ]
  },
  {
   "cell_type": "code",
   "execution_count": 4,
   "id": "ca071464",
   "metadata": {},
   "outputs": [
    {
     "name": "stderr",
     "output_type": "stream",
     "text": [
      "                                                                                \r"
     ]
    },
    {
     "name": "stdout",
     "output_type": "stream",
     "text": [
      "+---+-----+-----+\n",
      "| id|label|value|\n",
      "+---+-----+-----+\n",
      "|  1|  \"C\"|  3.0|\n",
      "|  2|  \"D\"|  2.0|\n",
      "|  3|  \"A\"|  5.0|\n",
      "|  4|  \"C\"|  2.0|\n",
      "|  5|  \"C\"|  9.0|\n",
      "|  6|  \"A\"| -1.0|\n",
      "+---+-----+-----+\n",
      "\n"
     ]
    }
   ],
   "source": [
    "df = spark.read.option(\n",
    "    \"inferSchema\",True).option(\"header\",True).csv('test.csv')\n",
    "df.show()"
   ]
  },
  {
   "cell_type": "markdown",
   "id": "d8d75bc4",
   "metadata": {},
   "source": [
    "### Select"
   ]
  },
  {
   "cell_type": "markdown",
   "id": "38bfc497",
   "metadata": {},
   "source": [
    "SELECT id, label\n",
    "FROM table_name"
   ]
  },
  {
   "cell_type": "code",
   "execution_count": 5,
   "id": "9ab0e924",
   "metadata": {},
   "outputs": [],
   "source": [
    "df1 = df.select(\"id\", \"label\")"
   ]
  },
  {
   "cell_type": "code",
   "execution_count": 6,
   "id": "0365104d",
   "metadata": {},
   "outputs": [
    {
     "name": "stdout",
     "output_type": "stream",
     "text": [
      "+---+-----+\n",
      "| id|label|\n",
      "+---+-----+\n",
      "|  1|  \"C\"|\n",
      "|  2|  \"D\"|\n",
      "|  3|  \"A\"|\n",
      "|  4|  \"C\"|\n",
      "|  5|  \"C\"|\n",
      "|  6|  \"A\"|\n",
      "+---+-----+\n",
      "\n"
     ]
    }
   ],
   "source": [
    "df1.show()"
   ]
  },
  {
   "cell_type": "markdown",
   "id": "c4d794da",
   "metadata": {},
   "source": [
    "### Filter"
   ]
  },
  {
   "cell_type": "markdown",
   "id": "4020de23",
   "metadata": {},
   "source": [
    "SELECT *\n",
    "FROM table\n",
    "WHERE col > 3"
   ]
  },
  {
   "cell_type": "code",
   "execution_count": 11,
   "id": "0fdb1254",
   "metadata": {},
   "outputs": [
    {
     "name": "stdout",
     "output_type": "stream",
     "text": [
      "+---+-----+-----+\n",
      "| id|label|value|\n",
      "+---+-----+-----+\n",
      "|  6|  \"A\"| -1.0|\n",
      "+---+-----+-----+\n",
      "\n"
     ]
    }
   ],
   "source": [
    "df.filter(df.value < 0).show()"
   ]
  },
  {
   "cell_type": "markdown",
   "id": "c549cf90",
   "metadata": {},
   "source": [
    "### Add a new column"
   ]
  },
  {
   "cell_type": "markdown",
   "id": "889d87f3",
   "metadata": {},
   "source": [
    "new_value = value + 3"
   ]
  },
  {
   "cell_type": "code",
   "execution_count": 14,
   "id": "76beb95e",
   "metadata": {},
   "outputs": [
    {
     "name": "stdout",
     "output_type": "stream",
     "text": [
      "+---+-----+-----+------+\n",
      "| id|label|value|newcol|\n",
      "+---+-----+-----+------+\n",
      "|  1|  \"C\"|  3.0|   6.0|\n",
      "|  2|  \"D\"|  2.0|   5.0|\n",
      "|  3|  \"A\"|  5.0|   8.0|\n",
      "|  4|  \"C\"|  2.0|   5.0|\n",
      "|  5|  \"C\"|  9.0|  12.0|\n",
      "|  6|  \"A\"| -1.0|   2.0|\n",
      "+---+-----+-----+------+\n",
      "\n"
     ]
    }
   ],
   "source": [
    "df.withColumn('newcol', df.value + 3).show()"
   ]
  },
  {
   "cell_type": "markdown",
   "id": "5bac7375",
   "metadata": {},
   "source": [
    "### Aggregation"
   ]
  },
  {
   "cell_type": "markdown",
   "id": "dbd61010",
   "metadata": {},
   "source": [
    "SELECT COUNT(*) \n",
    "\n",
    "\n",
    "SELECT SUM(col)"
   ]
  },
  {
   "cell_type": "code",
   "execution_count": 17,
   "id": "9a076a18",
   "metadata": {},
   "outputs": [
    {
     "name": "stdout",
     "output_type": "stream",
     "text": [
      "+--------+\n",
      "|count(1)|\n",
      "+--------+\n",
      "|       6|\n",
      "+--------+\n",
      "\n"
     ]
    }
   ],
   "source": [
    "df.agg({'*': 'COUNT'}).show()"
   ]
  },
  {
   "cell_type": "markdown",
   "id": "1fd5eb05",
   "metadata": {},
   "source": [
    "SELECT SUM(value), MIN(id)\n",
    "\n",
    "FROM table\n",
    "\n",
    "GROUP BY label"
   ]
  },
  {
   "cell_type": "code",
   "execution_count": 20,
   "id": "1971e262",
   "metadata": {},
   "outputs": [
    {
     "name": "stdout",
     "output_type": "stream",
     "text": [
      "+-----+-------+----------+\n",
      "|label|min(id)|sum(value)|\n",
      "+-----+-------+----------+\n",
      "|  \"C\"|      1|      14.0|\n",
      "|  \"D\"|      2|       2.0|\n",
      "|  \"A\"|      3|       4.0|\n",
      "+-----+-------+----------+\n",
      "\n"
     ]
    }
   ],
   "source": [
    "df.groupby('label').agg({'value': 'sum', 'id': 'min'}).show()"
   ]
  },
  {
   "cell_type": "markdown",
   "id": "e4e3cc0d",
   "metadata": {},
   "source": [
    "### Sort"
   ]
  },
  {
   "cell_type": "markdown",
   "id": "f2615263",
   "metadata": {},
   "source": [
    "Sort descending by value and ascending by id"
   ]
  },
  {
   "cell_type": "markdown",
   "id": "72f16945",
   "metadata": {},
   "source": [
    "SELECT *\n",
    "\n",
    "FROM table\n",
    "\n",
    "ORDER BY value DESC, id ASC"
   ]
  },
  {
   "cell_type": "code",
   "execution_count": 26,
   "id": "ca2a75e0",
   "metadata": {},
   "outputs": [
    {
     "name": "stdout",
     "output_type": "stream",
     "text": [
      "+---+-----+-----+\n",
      "| id|label|value|\n",
      "+---+-----+-----+\n",
      "|  5|  \"C\"|  9.0|\n",
      "|  3|  \"A\"|  5.0|\n",
      "|  1|  \"C\"|  3.0|\n",
      "|  2|  \"D\"|  2.0|\n",
      "|  4|  \"C\"|  2.0|\n",
      "|  6|  \"A\"| -1.0|\n",
      "+---+-----+-----+\n",
      "\n"
     ]
    }
   ],
   "source": [
    "df.sort(df.value.desc(), df.id.asc()).show()"
   ]
  },
  {
   "cell_type": "code",
   "execution_count": 25,
   "id": "a3523b85",
   "metadata": {},
   "outputs": [
    {
     "name": "stdout",
     "output_type": "stream",
     "text": [
      "+---+-----+-----+\n",
      "| id|label|value|\n",
      "+---+-----+-----+\n",
      "|  5|  \"C\"|  9.0|\n",
      "|  3|  \"A\"|  5.0|\n",
      "|  1|  \"C\"|  3.0|\n",
      "|  4|  \"C\"|  2.0|\n",
      "|  2|  \"D\"|  2.0|\n",
      "|  6|  \"A\"| -1.0|\n",
      "+---+-----+-----+\n",
      "\n"
     ]
    }
   ],
   "source": [
    "df.sort('value', ascending=False).show()"
   ]
  },
  {
   "cell_type": "markdown",
   "id": "09748742",
   "metadata": {},
   "source": [
    "### Windowing"
   ]
  },
  {
   "cell_type": "markdown",
   "id": "4c0428b8",
   "metadata": {},
   "source": [
    "Order, partition, Between"
   ]
  },
  {
   "cell_type": "code",
   "execution_count": 28,
   "id": "7c3acce5",
   "metadata": {},
   "outputs": [
    {
     "name": "stdout",
     "output_type": "stream",
     "text": [
      "+---+-----+-----+\n",
      "| id|label|value|\n",
      "+---+-----+-----+\n",
      "|  1|  \"C\"|  3.0|\n",
      "|  2|  \"D\"|  2.0|\n",
      "|  3|  \"A\"|  5.0|\n",
      "|  4|  \"C\"|  2.0|\n",
      "|  5|  \"C\"|  9.0|\n",
      "|  6|  \"A\"| -1.0|\n",
      "+---+-----+-----+\n",
      "\n"
     ]
    }
   ],
   "source": [
    "df.show()"
   ]
  },
  {
   "cell_type": "code",
   "execution_count": 29,
   "id": "6a877eb9",
   "metadata": {},
   "outputs": [
    {
     "name": "stdout",
     "output_type": "stream",
     "text": [
      "+---+-----+-----+---------+\n",
      "| id|label|value|value_cum|\n",
      "+---+-----+-----+---------+\n",
      "|  1|  \"C\"|  3.0|      3.0|\n",
      "|  2|  \"D\"|  2.0|      5.0|\n",
      "|  3|  \"A\"|  5.0|     10.0|\n",
      "|  4|  \"C\"|  2.0|     12.0|\n",
      "|  5|  \"C\"|  9.0|     21.0|\n",
      "|  6|  \"A\"| -1.0|     20.0|\n",
      "+---+-----+-----+---------+\n",
      "\n"
     ]
    }
   ],
   "source": [
    "w = Window().rowsBetween(\n",
    "    Window.unboundedPreceding, Window.currentRow)\n",
    "df.withColumn('value_cum', F.sum(df.value).over(w)).show()"
   ]
  },
  {
   "cell_type": "code",
   "execution_count": 30,
   "id": "15bced42",
   "metadata": {},
   "outputs": [
    {
     "name": "stdout",
     "output_type": "stream",
     "text": [
      "+---+-----+-----+---------+\n",
      "| id|label|value|value_cum|\n",
      "+---+-----+-----+---------+\n",
      "|  3|  \"A\"|  5.0|      5.0|\n",
      "|  6|  \"A\"| -1.0|      4.0|\n",
      "|  1|  \"C\"|  3.0|      7.0|\n",
      "|  4|  \"C\"|  2.0|      9.0|\n",
      "|  5|  \"C\"|  9.0|     18.0|\n",
      "|  2|  \"D\"|  2.0|     20.0|\n",
      "+---+-----+-----+---------+\n",
      "\n"
     ]
    }
   ],
   "source": [
    "w = Window().orderBy('label').rowsBetween(\n",
    "    Window.unboundedPreceding, Window.currentRow)\n",
    "df.withColumn('value_cum', F.sum(df.value).over(w)).show()"
   ]
  },
  {
   "cell_type": "code",
   "execution_count": 31,
   "id": "039b5523",
   "metadata": {},
   "outputs": [
    {
     "name": "stderr",
     "output_type": "stream",
     "text": [
      "\r",
      "[Stage 55:===========================================>           (79 + 8) / 100]\r",
      "\r",
      "                                                                                \r"
     ]
    },
    {
     "name": "stdout",
     "output_type": "stream",
     "text": [
      "+---+-----+-----+---------+\n",
      "| id|label|value|value_cum|\n",
      "+---+-----+-----+---------+\n",
      "|  1|  \"C\"|  3.0|      3.0|\n",
      "|  4|  \"C\"|  2.0|      5.0|\n",
      "|  5|  \"C\"|  9.0|     14.0|\n",
      "|  3|  \"A\"|  5.0|      5.0|\n",
      "|  6|  \"A\"| -1.0|      4.0|\n",
      "|  2|  \"D\"|  2.0|      2.0|\n",
      "+---+-----+-----+---------+\n",
      "\n"
     ]
    }
   ],
   "source": [
    "w = Window().partitionBy('label').rowsBetween(\n",
    "    Window.unboundedPreceding, Window.currentRow)\n",
    "df.withColumn('value_cum', F.sum(df.value).over(w)).show()"
   ]
  },
  {
   "cell_type": "markdown",
   "id": "408cb445",
   "metadata": {},
   "source": [
    "### Iterate over rows using .collect()"
   ]
  },
  {
   "cell_type": "code",
   "execution_count": 32,
   "id": "b99f8cf7",
   "metadata": {},
   "outputs": [
    {
     "name": "stdout",
     "output_type": "stream",
     "text": [
      "1 1\n",
      "2 2\n",
      "3 3\n",
      "4 4\n",
      "5 5\n",
      "6 6\n"
     ]
    }
   ],
   "source": [
    "for row in df.collect():\n",
    "    print(row['id'], row.id)"
   ]
  },
  {
   "cell_type": "markdown",
   "id": "cd2760ed",
   "metadata": {},
   "source": [
    "## Video Conferencing Analysis"
   ]
  },
  {
   "cell_type": "code",
   "execution_count": 4,
   "id": "8fc5d961",
   "metadata": {},
   "outputs": [
    {
     "name": "stderr",
     "output_type": "stream",
     "text": [
      "                                                                                \r"
     ]
    }
   ],
   "source": [
    "df = spark.read.parquet(\"data/0.parquet\").cache()"
   ]
  },
  {
   "cell_type": "code",
   "execution_count": 5,
   "id": "61403a9a",
   "metadata": {},
   "outputs": [
    {
     "name": "stderr",
     "output_type": "stream",
     "text": [
      "\r",
      "[Stage 1:>                                                          (0 + 1) / 1]\r"
     ]
    },
    {
     "name": "stdout",
     "output_type": "stream",
     "text": [
      "+--------------------+-------------+-----+-------------+-----+------+----------+--------+---------+-------+-------+---------------+-------------------+--------------+-------+----------------+------+----------+------------+-----------+---------------+\n",
      "|                  ts|          sIP|sPort|          dIP|dPort|ip_len|ip_hdr_len|ip_proto|tcp_flags|tcp_seq|tcp_ack|   tls_hostname|       dns_hostname|        dns_ip|rtp_seq|rtp_payload_type|rtp_ts|rtp_marker|rtp_ext_flag|rtp_ext_len|rtp_padding_len|\n",
      "+--------------------+-------------+-----+-------------+-----+------+----------+--------+---------+-------+-------+---------------+-------------------+--------------+-------+----------------+------+----------+------------+-----------+---------------+\n",
      "| 1.652830550357248E9|192.168.1.236|37883|  192.168.1.1|   53|    65|        20|      17|     null|   null|   null|           null|               null|          null|   null|            null|  null|      null|        null|       null|           null|\n",
      "|1.6528305503590987E9|  192.168.1.1|   53|192.168.1.236|37883|    81|        20|      17|     null|   null|   null|           null|accounts.google.com|142.250.72.173|   null|            null|  null|      null|        null|       null|           null|\n",
      "|1.6528305506576219E9|192.168.1.236|45038|  192.168.1.1|   53|    61|        20|      17|     null|   null|   null|           null|               null|          null|   null|            null|  null|      null|        null|       null|           null|\n",
      "|1.6528305506595285E9|  192.168.1.1|   53|192.168.1.236|45038|    77|        20|      17|     null|   null|   null|           null|    ssl.gstatic.com| 142.250.68.99|   null|            null|  null|      null|        null|       null|           null|\n",
      "|1.6528305507708423E9|192.168.1.236|58518|142.250.68.99|  443|  1278|        20|      17|     null|   null|   null|ssl.gstatic.com|               null|          null|   null|            null|  null|      null|        null|       null|           null|\n",
      "+--------------------+-------------+-----+-------------+-----+------+----------+--------+---------+-------+-------+---------------+-------------------+--------------+-------+----------------+------+----------+------------+-----------+---------------+\n",
      "only showing top 5 rows\n",
      "\n"
     ]
    },
    {
     "name": "stderr",
     "output_type": "stream",
     "text": [
      "\r",
      "                                                                                \r"
     ]
    }
   ],
   "source": [
    "df.show(n=5)"
   ]
  },
  {
   "cell_type": "code",
   "execution_count": 6,
   "id": "f814f29e",
   "metadata": {},
   "outputs": [
    {
     "data": {
      "text/plain": [
       "23513"
      ]
     },
     "execution_count": 6,
     "metadata": {},
     "output_type": "execute_result"
    }
   ],
   "source": [
    "df.count()"
   ]
  },
  {
   "cell_type": "markdown",
   "id": "b6f7a251",
   "metadata": {},
   "source": [
    "## VCA session traffic"
   ]
  },
  {
   "cell_type": "code",
   "execution_count": 7,
   "id": "7946488c",
   "metadata": {},
   "outputs": [
    {
     "name": "stderr",
     "output_type": "stream",
     "text": [
      "\r",
      "[Stage 11:===================================================>   (93 + 7) / 100]\r",
      "\r",
      "                                                                                \r"
     ]
    },
    {
     "name": "stdout",
     "output_type": "stream",
     "text": [
      "+-------------+-----+-------------+-----+--------+----------------+\n",
      "|sIP          |sPort|dIP          |dPort|ip_proto|rtp_payload_type|\n",
      "+-------------+-----+-------------+-----+--------+----------------+\n",
      "|142.250.82.87|3478 |192.168.1.236|45626|17      |97              |\n",
      "|142.250.82.87|3478 |192.168.1.236|45626|17      |96              |\n",
      "+-------------+-----+-------------+-----+--------+----------------+\n",
      "\n"
     ]
    },
    {
     "name": "stderr",
     "output_type": "stream",
     "text": [
      "\r",
      "[Stage 13:=====================================================>  (71 + 4) / 75]\r",
      "\r",
      "                                                                                \r"
     ]
    }
   ],
   "source": [
    "df.select('sIP', 'sPort', 'dIP', 'dPort', 'ip_proto', 'rtp_payload_type').filter(\n",
    "    df.rtp_payload_type.isNotNull()).distinct().show(truncate=False)"
   ]
  },
  {
   "cell_type": "markdown",
   "id": "7022d2a7",
   "metadata": {},
   "source": [
    "## Isolating video stream"
   ]
  },
  {
   "cell_type": "code",
   "execution_count": 6,
   "id": "936f9e7b",
   "metadata": {},
   "outputs": [],
   "source": [
    "HOST_IP = \"192.168.1.236\"\n",
    "GMEET_IP = \"142.250.82.87\"\n",
    "HOST_PORT = 45626\n",
    "GMEET_PORT = 3478\n",
    "TRANSPORT_PROTO = 17"
   ]
  },
  {
   "cell_type": "code",
   "execution_count": 7,
   "id": "afc3955c",
   "metadata": {},
   "outputs": [],
   "source": [
    "flow_df = df.filter((((df.sIP == GMEET_IP) & (df.dIP == HOST_IP) & \n",
    "                      (df.sPort == GMEET_PORT) & (df.dPort == HOST_PORT)) | \n",
    "                     ((df.sIP == HOST_IP) & (df.dIP == GMEET_IP) & \n",
    "                      (df.sPort == HOST_PORT) & (df.dPort == GMEET_PORT))) &\n",
    "                    (df.ip_proto == TRANSPORT_PROTO)) \\\n",
    "            .sort('ts').select('ts', 'sIP', 'sPort', 'dPort', 'ip_len', 'ip_hdr_len', 'ip_proto', \n",
    "                               'rtp_seq', 'rtp_payload_type', 'rtp_ts', 'rtp_marker', 'rtp_ext_flag', 'rtp_ext_len', \n",
    "                               'rtp_padding_len')\n",
    "# flow_df = flow_df.withColumn('ts', flow_df['ts'] - flow_df.agg({'ts': 'min'}).collect()[0]['min(ts)'])\n",
    "# flow_df = flow_df.withColumn('idx', F.row_number().over(Window().orderBy('ts')))\n",
    "flow_df = flow_df.cache()"
   ]
  },
  {
   "cell_type": "code",
   "execution_count": 10,
   "id": "0b34edfe",
   "metadata": {},
   "outputs": [
    {
     "name": "stdout",
     "output_type": "stream",
     "text": [
      "+--------------------+-------------+-----+-----+------+----------+--------+-------+----------------+------+----------+------------+-----------+---------------+\n",
      "|                  ts|          sIP|sPort|dPort|ip_len|ip_hdr_len|ip_proto|rtp_seq|rtp_payload_type|rtp_ts|rtp_marker|rtp_ext_flag|rtp_ext_len|rtp_padding_len|\n",
      "+--------------------+-------------+-----+-----+------+----------+--------+-------+----------------+------+----------+------------+-----------+---------------+\n",
      "|1.6528305772746215E9|192.168.1.236|45626| 3478|   136|        20|      17|   null|            null|  null|      null|        null|       null|           null|\n",
      "|1.6528305773035374E9|142.250.82.87| 3478|45626|   120|        20|      17|   null|            null|  null|      null|        null|       null|           null|\n",
      "|1.6528305773067183E9|192.168.1.236|45626| 3478|   185|        20|      17|   null|            null|  null|      null|        null|       null|           null|\n",
      "+--------------------+-------------+-----+-----+------+----------+--------+-------+----------------+------+----------+------------+-----------+---------------+\n",
      "only showing top 3 rows\n",
      "\n"
     ]
    }
   ],
   "source": [
    "flow_df.show(n=3)"
   ]
  },
  {
   "cell_type": "code",
   "execution_count": 8,
   "id": "d99c75a7",
   "metadata": {},
   "outputs": [
    {
     "name": "stderr",
     "output_type": "stream",
     "text": [
      "                                                                                \r"
     ]
    }
   ],
   "source": [
    "video_flow_df = flow_df.filter(flow_df.rtp_payload_type==96)\n",
    "video_flow_df = video_flow_df.fillna(\n",
    "    {'rtp_padding_len': 0, 'rtp_ext_flag': False, 'rtp_ext_len': 0})\n",
    "video_flow_df = video_flow_df.withColumn(\n",
    "    'rtp_payload_len',\n",
    "    (video_flow_df.ip_len - video_flow_df.ip_hdr_len - 20 \n",
    "     - 4 * video_flow_df.rtp_ext_flag.cast(ByteType())\n",
    "     * (1 + video_flow_df.rtp_ext_len) \n",
    "     - video_flow_df.rtp_padding_len))\n",
    "video_flow_df = video_flow_df.withColumn(\n",
    "    'is_down', (video_flow_df.sIP == GMEET_IP).cast(BooleanType()))\n",
    "video_flow_df = video_flow_df.sort('rtp_seq')\n",
    "rtp_ts_init_val = video_flow_df.agg(\n",
    "    {'rtp_ts': 'min'}).collect()[0]['min(rtp_ts)']\n",
    "video_flow_df = video_flow_df.withColumn(\n",
    "    'rtp_ts', video_flow_df['rtp_ts'] - rtp_ts_init_val)\n",
    "video_flow_df = video_flow_df.select(\n",
    "    'rtp_seq', 'is_down', 'rtp_ts', 'rtp_payload_len', 'rtp_marker').cache()"
   ]
  },
  {
   "cell_type": "code",
   "execution_count": 9,
   "id": "b71a7584",
   "metadata": {},
   "outputs": [
    {
     "name": "stderr",
     "output_type": "stream",
     "text": [
      "[Stage 9:================================================>      (178 + 8) / 200]\r"
     ]
    },
    {
     "name": "stdout",
     "output_type": "stream",
     "text": [
      "+-------+-------+------+---------------+----------+\n",
      "|rtp_seq|is_down|rtp_ts|rtp_payload_len|rtp_marker|\n",
      "+-------+-------+------+---------------+----------+\n",
      "|      0|   true|     0|           1140|     false|\n",
      "|      1|   true|     0|           1156|     false|\n",
      "|      2|   true|     0|           1156|     false|\n",
      "|      3|   true|     0|           1152|      true|\n",
      "|      4|   true|  3780|            637|     false|\n",
      "|      5|   true|  3780|            637|      true|\n",
      "|      6|   true|  7560|           1178|      true|\n",
      "|      7|   true| 10530|           1110|      true|\n",
      "|      8|   true| 14310|            836|     false|\n",
      "|      9|   true| 14310|            848|      true|\n",
      "+-------+-------+------+---------------+----------+\n",
      "only showing top 10 rows\n",
      "\n"
     ]
    },
    {
     "name": "stderr",
     "output_type": "stream",
     "text": [
      "\r",
      "                                                                                \r"
     ]
    }
   ],
   "source": [
    "video_flow_df.show(n=10)"
   ]
  },
  {
   "cell_type": "markdown",
   "id": "9565ede0",
   "metadata": {},
   "source": [
    "## Grouping packets into frames"
   ]
  },
  {
   "cell_type": "markdown",
   "id": "0e1331a1",
   "metadata": {},
   "source": [
    "1. Create a window ordered by rtp_seq\n",
    "2. Shift \"integer type casted\" rtp_marker column value by one down\n",
    "3. Add `frame_no` column\n",
    "4. Drop rtp_marker column"
   ]
  },
  {
   "cell_type": "code",
   "execution_count": 18,
   "id": "143f62fa",
   "metadata": {
    "scrolled": true
   },
   "outputs": [
    {
     "name": "stdout",
     "output_type": "stream",
     "text": [
      "+-------+-------+------+---------------+----------+\n",
      "|rtp_seq|is_down|rtp_ts|rtp_payload_len|rtp_marker|\n",
      "+-------+-------+------+---------------+----------+\n",
      "|      0|   true|     0|           1140|      null|\n",
      "|      1|   true|     0|           1156|         0|\n",
      "|      2|   true|     0|           1156|         0|\n",
      "|      3|   true|     0|           1152|         0|\n",
      "|      4|   true|  3780|            637|         1|\n",
      "|      5|   true|  3780|            637|         0|\n",
      "|      6|   true|  7560|           1178|         1|\n",
      "|      7|   true| 10530|           1110|         1|\n",
      "|      8|   true| 14310|            836|         1|\n",
      "|      9|   true| 14310|            848|         0|\n",
      "|     10|   true| 18180|            826|         1|\n",
      "|     11|   true| 21960|            934|         1|\n",
      "|     12|   true| 24930|           1022|         1|\n",
      "|     13|   true| 28710|            777|         1|\n",
      "|     14|   true| 28710|            761|         0|\n",
      "|     15|   true| 32580|            846|         1|\n",
      "|     16|   true| 36360|           1050|         1|\n",
      "|     17|   true| 39240|           1136|         1|\n",
      "|     18|   true| 43020|            820|         1|\n",
      "|     19|   true| 43020|            820|         0|\n",
      "+-------+-------+------+---------------+----------+\n",
      "only showing top 20 rows\n",
      "\n"
     ]
    }
   ],
   "source": [
    "w = Window.orderBy('rtp_seq')\n",
    "frames_df = video_flow_df.withColumn(\n",
    "    'rtp_marker', F.lag('rtp_marker').over(w).cast(IntegerType()))\n",
    "frames_df.show()"
   ]
  },
  {
   "cell_type": "code",
   "execution_count": 19,
   "id": "e245b966",
   "metadata": {},
   "outputs": [
    {
     "name": "stdout",
     "output_type": "stream",
     "text": [
      "+-------+-------+------+---------------+----------+\n",
      "|rtp_seq|is_down|rtp_ts|rtp_payload_len|rtp_marker|\n",
      "+-------+-------+------+---------------+----------+\n",
      "|      0|   true|     0|           1140|         0|\n",
      "|      1|   true|     0|           1156|         0|\n",
      "|      2|   true|     0|           1156|         0|\n",
      "|      3|   true|     0|           1152|         0|\n",
      "|      4|   true|  3780|            637|         1|\n",
      "|      5|   true|  3780|            637|         0|\n",
      "|      6|   true|  7560|           1178|         1|\n",
      "|      7|   true| 10530|           1110|         1|\n",
      "|      8|   true| 14310|            836|         1|\n",
      "|      9|   true| 14310|            848|         0|\n",
      "+-------+-------+------+---------------+----------+\n",
      "only showing top 10 rows\n",
      "\n"
     ]
    }
   ],
   "source": [
    "frames_df = frames_df.fillna({'rtp_marker': 0})\n",
    "frames_df.show(n=10)"
   ]
  },
  {
   "cell_type": "code",
   "execution_count": 20,
   "id": "da890800",
   "metadata": {
    "scrolled": true
   },
   "outputs": [
    {
     "name": "stdout",
     "output_type": "stream",
     "text": [
      "+-------+-------+------+---------------+----------+--------+\n",
      "|rtp_seq|is_down|rtp_ts|rtp_payload_len|rtp_marker|frame_no|\n",
      "+-------+-------+------+---------------+----------+--------+\n",
      "|      0|   true|     0|           1140|         0|       0|\n",
      "|      1|   true|     0|           1156|         0|       0|\n",
      "|      2|   true|     0|           1156|         0|       0|\n",
      "|      3|   true|     0|           1152|         0|       0|\n",
      "|      4|   true|  3780|            637|         1|       1|\n",
      "|      5|   true|  3780|            637|         0|       1|\n",
      "|      6|   true|  7560|           1178|         1|       2|\n",
      "|      7|   true| 10530|           1110|         1|       3|\n",
      "|      8|   true| 14310|            836|         1|       4|\n",
      "|      9|   true| 14310|            848|         0|       4|\n",
      "|     10|   true| 18180|            826|         1|       5|\n",
      "|     11|   true| 21960|            934|         1|       6|\n",
      "|     12|   true| 24930|           1022|         1|       7|\n",
      "|     13|   true| 28710|            777|         1|       8|\n",
      "|     14|   true| 28710|            761|         0|       8|\n",
      "|     15|   true| 32580|            846|         1|       9|\n",
      "|     16|   true| 36360|           1050|         1|      10|\n",
      "|     17|   true| 39240|           1136|         1|      11|\n",
      "|     18|   true| 43020|            820|         1|      12|\n",
      "|     19|   true| 43020|            820|         0|      12|\n",
      "+-------+-------+------+---------------+----------+--------+\n",
      "only showing top 20 rows\n",
      "\n"
     ]
    }
   ],
   "source": [
    "frames_df = frames_df.withColumn('frame_no', F.sum('rtp_marker').over(w))\n",
    "frames_df.show()"
   ]
  },
  {
   "cell_type": "code",
   "execution_count": 21,
   "id": "c032a14f",
   "metadata": {},
   "outputs": [
    {
     "name": "stdout",
     "output_type": "stream",
     "text": [
      "+-------+-------+------+---------------+----------+--------+------+\n",
      "|rtp_seq|is_down|rtp_ts|rtp_payload_len|rtp_marker|frame_no|window|\n",
      "+-------+-------+------+---------------+----------+--------+------+\n",
      "|      0|   true|     0|           1140|         0|       0|     0|\n",
      "|      1|   true|     0|           1156|         0|       0|     0|\n",
      "|      2|   true|     0|           1156|         0|       0|     0|\n",
      "|      3|   true|     0|           1152|         0|       0|     0|\n",
      "|      4|   true|  3780|            637|         1|       1|     0|\n",
      "|      5|   true|  3780|            637|         0|       1|     0|\n",
      "|      6|   true|  7560|           1178|         1|       2|     0|\n",
      "|      7|   true| 10530|           1110|         1|       3|     0|\n",
      "|      8|   true| 14310|            836|         1|       4|     0|\n",
      "|      9|   true| 14310|            848|         0|       4|     0|\n",
      "|     10|   true| 18180|            826|         1|       5|     0|\n",
      "|     11|   true| 21960|            934|         1|       6|     0|\n",
      "|     12|   true| 24930|           1022|         1|       7|     0|\n",
      "|     13|   true| 28710|            777|         1|       8|     0|\n",
      "|     14|   true| 28710|            761|         0|       8|     0|\n",
      "|     15|   true| 32580|            846|         1|       9|     0|\n",
      "|     16|   true| 36360|           1050|         1|      10|     0|\n",
      "|     17|   true| 39240|           1136|         1|      11|     0|\n",
      "|     18|   true| 43020|            820|         1|      12|     0|\n",
      "|     19|   true| 43020|            820|         0|      12|     0|\n",
      "+-------+-------+------+---------------+----------+--------+------+\n",
      "only showing top 20 rows\n",
      "\n"
     ]
    }
   ],
   "source": [
    "frames_df = frames_df.withColumn(\n",
    "    'window', (frames_df.rtp_ts / 90000).cast(IntegerType()))\n",
    "frames_df.show()"
   ]
  },
  {
   "cell_type": "code",
   "execution_count": 22,
   "id": "2506c3c4",
   "metadata": {},
   "outputs": [
    {
     "name": "stderr",
     "output_type": "stream",
     "text": [
      "\r",
      "[Stage 61:============================================>         (164 + 8) / 200]\r"
     ]
    },
    {
     "name": "stdout",
     "output_type": "stream",
     "text": [
      "+-------+-------+------+---------------+----------+--------+------+\n",
      "|rtp_seq|is_down|rtp_ts|rtp_payload_len|rtp_marker|frame_no|window|\n",
      "+-------+-------+------+---------------+----------+--------+------+\n",
      "|      0|   true|     0|           1140|         0|       0|     0|\n",
      "|      1|   true|     0|           1156|         0|       0|     0|\n",
      "|      2|   true|     0|           1156|         0|       0|     0|\n",
      "|      3|   true|     0|           1152|         0|       0|     0|\n",
      "|      4|   true|  3780|            637|         1|       1|     0|\n",
      "|      5|   true|  3780|            637|         0|       1|     0|\n",
      "|      6|   true|  7560|           1178|         1|       2|     0|\n",
      "|      7|   true| 10530|           1110|         1|       3|     0|\n",
      "|      8|   true| 14310|            836|         1|       4|     0|\n",
      "|      9|   true| 14310|            848|         0|       4|     0|\n",
      "|     10|   true| 18180|            826|         1|       5|     0|\n",
      "|     11|   true| 21960|            934|         1|       6|     0|\n",
      "|     12|   true| 24930|           1022|         1|       7|     0|\n",
      "|     13|   true| 28710|            777|         1|       8|     0|\n",
      "|     14|   true| 28710|            761|         0|       8|     0|\n",
      "|     15|   true| 32580|            846|         1|       9|     0|\n",
      "|     16|   true| 36360|           1050|         1|      10|     0|\n",
      "|     17|   true| 39240|           1136|         1|      11|     0|\n",
      "|     18|   true| 43020|            820|         1|      12|     0|\n",
      "|     19|   true| 43020|            820|         0|      12|     0|\n",
      "+-------+-------+------+---------------+----------+--------+------+\n",
      "only showing top 20 rows\n",
      "\n"
     ]
    },
    {
     "name": "stderr",
     "output_type": "stream",
     "text": [
      "\r",
      "                                                                                \r"
     ]
    }
   ],
   "source": [
    "frames_df = frames_df.filter(frames_df.is_down)\n",
    "frames_df.show()"
   ]
  },
  {
   "cell_type": "markdown",
   "id": "0799d8f5",
   "metadata": {},
   "source": [
    "## Grouping packets into 1-second windows"
   ]
  },
  {
   "cell_type": "markdown",
   "id": "8b5f9c11",
   "metadata": {},
   "source": [
    "1. Divide ts by 90K to get the video timestamp value in seconds\n",
    "2. Cast the timestamp value to Integer to group timestamps into 1 second windows"
   ]
  },
  {
   "cell_type": "markdown",
   "id": "02b3b1f0",
   "metadata": {},
   "source": [
    "1. Group rows by windows and perform aggregation over `rtp_payload_len` to get the number of bytes per window\n",
    "2. Collect the bytes and store them in a Python list"
   ]
  },
  {
   "cell_type": "markdown",
   "id": "c4bea506",
   "metadata": {},
   "source": [
    "### Plotting"
   ]
  },
  {
   "cell_type": "code",
   "execution_count": 21,
   "id": "21119abd",
   "metadata": {},
   "outputs": [],
   "source": [
    "def change_plot_params(ax, xlabel, ylabel, Xmin, Xmax, is_x_log=False, is_y_log=False):\n",
    "    ax.set_xlabel(xlabel)\n",
    "    ax.set_ylabel(ylabel)\n",
    "    if is_x_log:\n",
    "        ax.set_xscale('log')\n",
    "    if is_y_log:\n",
    "        ax.set_yscale('log')\n",
    "    if Xmin is not None:\n",
    "        ax.set_xlim(xmin=Xmin)\n",
    "    if Xmax is not None:\n",
    "        ax.set_xlim(xmax=Xmax)\n",
    "    ax.grid(True)\n",
    "    return\n",
    "\n",
    "def get_color_and_linestyle_kwargs(i):\n",
    "    color_n = ['r', 'b', 'k', 'g', 'm', 'c', 'y']\n",
    "    linestyles = ['-', '--', ':', '-.']\n",
    "    return {'color': color_n[i % len(color_n)], 'linestyle': linestyles[i % len(linestyles)]}\n",
    "\n",
    "def plotCDF(ax, data, labels, xlabel, ylabel, Xmax=None, Xmin=None, log_scale=False,\n",
    "            set_legend=True, color_n_linestyle_dicts=None):\n",
    "    raw = {}\n",
    "    markers = ['o', '*', '^', '1', '4', 's', 'd', '3', 'd', 'o', '*', '^']\n",
    "\n",
    "    for key in sorted(labels):\n",
    "        raw[key] = list(data[key])\n",
    "        if len(raw[key]) == 0:\n",
    "            continue\n",
    "\n",
    "        elms, cts = np.unique(raw[key], return_counts=True)\n",
    "        cdf = np.cumsum(cts)\n",
    "        cdf = cdf / cdf[-1]\n",
    "        kwargs_dict = (get_color_and_linestyle_kwargs(key) if color_n_linestyle_dicts is None\n",
    "                       else color_n_linestyle_dicts[key])\n",
    "        ax.step(list(elms[:1]) + list(elms), [0] + list(cdf), where='post',\n",
    "                label=labels[key], **kwargs_dict)\n",
    "\n",
    "    # pl.legend((p),legnd,'lower right')\n",
    "    if len(labels) > 1 and set_legend:\n",
    "        set_legend_to_right(ax)\n",
    "\n",
    "    change_plot_params(ax, xlabel, ylabel, Xmin, Xmax, is_x_log=log_scale)\n",
    "    ax.set_ylim(ymax=1.0)\n",
    "    ax.set_ylim(ymin=0.0)"
   ]
  },
  {
   "cell_type": "markdown",
   "id": "ef37ec0c",
   "metadata": {},
   "source": [
    "#### Cumulative Distribution Function (CDF)"
   ]
  },
  {
   "cell_type": "code",
   "execution_count": 22,
   "id": "96186c2f",
   "metadata": {},
   "outputs": [
    {
     "data": {
      "image/png": "[encoded data removed]",
      "text/plain": [
       "<Figure size 432x288 with 1 Axes>"
      ]
     },
     "metadata": {
      "needs_background": "light"
     },
     "output_type": "display_data"
    }
   ],
   "source": [
    "plotCDF(plt.gca(), {0: bytes_data}, {0: ''}, 'Data Received (in bytes)', 'Fraction of windows')\n",
    "plt.show()"
   ]
  },
  {
   "cell_type": "markdown",
   "id": "ed81040c",
   "metadata": {},
   "source": [
    "### Line plot"
   ]
  },
  {
   "cell_type": "code",
   "execution_count": 23,
   "id": "ffea26bf",
   "metadata": {},
   "outputs": [
    {
     "data": {
      "image/png": "[encoded data removed]",
      "text/plain": [
       "<Figure size 432x288 with 1 Axes>"
      ]
     },
     "metadata": {
      "needs_background": "light"
     },
     "output_type": "display_data"
    }
   ],
   "source": [
    "def line_plot():\n",
    "    window_ids = range(1, 1 + len(bytes_data))\n",
    "    plt.plot(window_ids, bytes_data, **get_color_and_linestyle_kwargs(0))\n",
    "    change_plot_params(plt.gca(), 'Window ID', 'Data Received (in bytes)',\n",
    "                       None, None, is_x_log=False, is_y_log=False)\n",
    "    return\n",
    "\n",
    "line_plot()\n",
    "plt.show()"
   ]
  }
 ],
 "metadata": {
  "kernelspec": {
   "display_name": "Python 3 (ipykernel)",
   "language": "python",
   "name": "python3"
  },
  "language_info": {
   "codemirror_mode": {
    "name": "ipython",
    "version": 3
   },
   "file_extension": ".py",
   "mimetype": "text/x-python",
   "name": "python",
   "nbconvert_exporter": "python",
   "pygments_lexer": "ipython3",
   "version": "3.9.12"
  }
 },
 "nbformat": 4,
 "nbformat_minor": 5
}
